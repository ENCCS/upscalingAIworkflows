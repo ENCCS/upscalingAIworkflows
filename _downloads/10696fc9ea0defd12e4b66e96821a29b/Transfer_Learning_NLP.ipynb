{
 "cells": [
  {
   "cell_type": "code",
   "execution_count": 1,
   "id": "1e2d259d",
   "metadata": {},
   "outputs": [],
   "source": [
    "import numpy as np\n",
    "import pandas as pd\n",
    "import time\n",
    "import tensorflow as tf\n",
    "\n",
    "import pathlib\n",
    "import shutil\n",
    "import tempfile"
   ]
  },
  {
   "cell_type": "code",
   "execution_count": 2,
   "id": "3547f8e5",
   "metadata": {},
   "outputs": [
    {
     "name": "stdout",
     "output_type": "stream",
     "text": [
      "Defaulting to user installation because normal site-packages is not writeable\n",
      "Requirement already satisfied: tensorflow_hub in /mnt/tier2/users/u100186/.local/lib/python3.9/site-packages (0.12.0)\n",
      "Requirement already satisfied: protobuf>=3.8.0 in /mnt/tier2/apps/USE/easybuild/release/2021.3/software/protobuf-python/3.17.3-GCCcore-10.3.0/lib/python3.9/site-packages (from tensorflow_hub) (3.17.3)\n",
      "Requirement already satisfied: numpy>=1.12.0 in /mnt/tier2/apps/USE/easybuild/release/2021.3/software/SciPy-bundle/2021.05-foss-2021a/lib/python3.9/site-packages (from tensorflow_hub) (1.20.3)\n",
      "Requirement already satisfied: six>=1.9 in /mnt/tier2/apps/USE/easybuild/release/2021.3/software/Python/3.9.5-GCCcore-10.3.0/lib/python3.9/site-packages (from protobuf>=3.8.0->tensorflow_hub) (1.16.0)\n",
      "\u001b[33mWARNING: You are using pip version 21.1.1; however, version 22.0.4 is available.\n",
      "You should consider upgrading via the '/apps/USE/easybuild/release/2021.3/software/Python/3.9.5-GCCcore-10.3.0/bin/python3.9 -m pip install --upgrade pip' command.\u001b[0m\n",
      "Defaulting to user installation because normal site-packages is not writeable\n",
      "Requirement already satisfied: tensorflow_datasets in /mnt/tier2/users/u100186/.local/lib/python3.9/site-packages (4.5.2)\n",
      "Requirement already satisfied: dill in /mnt/tier2/apps/USE/easybuild/release/2021.3/software/TensorFlow/2.6.0-foss-2021a-CUDA-11.3.1/lib/python3.9/site-packages (from tensorflow_datasets) (0.3.3)\n",
      "Requirement already satisfied: protobuf>=3.12.2 in /mnt/tier2/apps/USE/easybuild/release/2021.3/software/protobuf-python/3.17.3-GCCcore-10.3.0/lib/python3.9/site-packages (from tensorflow_datasets) (3.17.3)\n",
      "Requirement already satisfied: tensorflow-metadata in /mnt/tier2/users/u100186/.local/lib/python3.9/site-packages (from tensorflow_datasets) (1.7.0)\n",
      "Requirement already satisfied: absl-py in /mnt/tier2/apps/USE/easybuild/release/2021.3/software/TensorFlow/2.6.0-foss-2021a-CUDA-11.3.1/lib/python3.9/site-packages (from tensorflow_datasets) (0.13.0)\n",
      "Requirement already satisfied: termcolor in /mnt/tier2/apps/USE/easybuild/release/2021.3/software/TensorFlow/2.6.0-foss-2021a-CUDA-11.3.1/lib/python3.9/site-packages (from tensorflow_datasets) (1.1.0)\n",
      "Requirement already satisfied: numpy in /mnt/tier2/apps/USE/easybuild/release/2021.3/software/SciPy-bundle/2021.05-foss-2021a/lib/python3.9/site-packages (from tensorflow_datasets) (1.20.3)\n",
      "Requirement already satisfied: requests>=2.19.0 in /mnt/tier2/apps/USE/easybuild/release/2021.3/software/Python/3.9.5-GCCcore-10.3.0/lib/python3.9/site-packages (from tensorflow_datasets) (2.25.1)\n",
      "Requirement already satisfied: tqdm in /mnt/tier2/users/u100186/.local/lib/python3.9/site-packages (from tensorflow_datasets) (4.64.0)\n",
      "Requirement already satisfied: six in /mnt/tier2/apps/USE/easybuild/release/2021.3/software/Python/3.9.5-GCCcore-10.3.0/lib/python3.9/site-packages (from tensorflow_datasets) (1.16.0)\n",
      "Requirement already satisfied: promise in /mnt/tier2/users/u100186/.local/lib/python3.9/site-packages (from tensorflow_datasets) (2.3)\n",
      "Requirement already satisfied: chardet<5,>=3.0.2 in /mnt/tier2/apps/USE/easybuild/release/2021.3/software/Python/3.9.5-GCCcore-10.3.0/lib/python3.9/site-packages (from requests>=2.19.0->tensorflow_datasets) (4.0.0)\n",
      "Requirement already satisfied: certifi>=2017.4.17 in /mnt/tier2/apps/USE/easybuild/release/2021.3/software/Python/3.9.5-GCCcore-10.3.0/lib/python3.9/site-packages (from requests>=2.19.0->tensorflow_datasets) (2020.12.5)\n",
      "Requirement already satisfied: idna<3,>=2.5 in /mnt/tier2/apps/USE/easybuild/release/2021.3/software/Python/3.9.5-GCCcore-10.3.0/lib/python3.9/site-packages (from requests>=2.19.0->tensorflow_datasets) (2.10)\n",
      "Requirement already satisfied: urllib3<1.27,>=1.21.1 in /mnt/tier2/apps/USE/easybuild/release/2021.3/software/Python/3.9.5-GCCcore-10.3.0/lib/python3.9/site-packages (from requests>=2.19.0->tensorflow_datasets) (1.26.4)\n",
      "Requirement already satisfied: googleapis-common-protos<2,>=1.52.0 in /mnt/tier2/users/u100186/.local/lib/python3.9/site-packages (from tensorflow-metadata->tensorflow_datasets) (1.56.0)\n",
      "\u001b[33mWARNING: You are using pip version 21.1.1; however, version 22.0.4 is available.\n",
      "You should consider upgrading via the '/apps/USE/easybuild/release/2021.3/software/Python/3.9.5-GCCcore-10.3.0/bin/python3.9 -m pip install --upgrade pip' command.\u001b[0m\n",
      "\u001b[33mWARNING: You are using pip version 21.1.1; however, version 22.0.4 is available.\n",
      "You should consider upgrading via the '/apps/USE/easybuild/release/2021.3/software/Python/3.9.5-GCCcore-10.3.0/bin/python3.9 -m pip install --upgrade pip' command.\u001b[0m\n"
     ]
    }
   ],
   "source": [
    "!pip install tensorflow_hub\n",
    "!pip install tensorflow_datasets\n",
    "!pip install -q git+https://github.com/tensorflow/docs"
   ]
  },
  {
   "cell_type": "code",
   "execution_count": 3,
   "id": "20e7c3ca",
   "metadata": {},
   "outputs": [
    {
     "name": "stdout",
     "output_type": "stream",
     "text": [
      "Version:  2.6.0\n",
      "Hub version:  0.12.0\n",
      "GPU is available\n",
      "Number of GPUs : 4\n"
     ]
    }
   ],
   "source": [
    "import tensorflow_hub as hub\n",
    "import tensorflow_datasets as tfds\n",
    "import matplotlib.pyplot as plt\n",
    "plt.rcParams['figure.figsize'] = (12, 8)\n",
    "from  IPython import display\n",
    "%matplotlib inline\n",
    "\n",
    "import pathlib\n",
    "import shutil\n",
    "import tempfile\n",
    "import os\n",
    "\n",
    "import tensorflow_docs as tfdocs\n",
    "import tensorflow_docs.modeling\n",
    "import tensorflow_docs.plots\n",
    "from sklearn.model_selection import train_test_split\n",
    "\n",
    "print(\"Version: \", tf.__version__)\n",
    "print(\"Hub version: \", hub.__version__)\n",
    "print(\"GPU is\", \"available\" if tf.config.list_physical_devices('GPU') else \"NOT AVAILABLE\")\n",
    "print('Number of GPUs :',len(tf.config.list_physical_devices('GPU')))\n",
    "\n",
    "logdir = pathlib.Path(tempfile.mkdtemp())/\"tensorboard_logs\"\n",
    "shutil.rmtree(logdir, ignore_errors=True)"
   ]
  },
  {
   "cell_type": "code",
   "execution_count": 4,
   "id": "7f482a47",
   "metadata": {},
   "outputs": [
    {
     "data": {
      "text/plain": [
       "(1306122, 3)"
      ]
     },
     "execution_count": 4,
     "metadata": {},
     "output_type": "execute_result"
    }
   ],
   "source": [
    "if os.path.exists('dataset.pkl'):\n",
    "    df = pd.read_pickle('dataset.pkl')\n",
    "else:\n",
    "    df = pd.read_csv('https://archive.org/download/fine-tune-bert-tensorflow-train.csv/train.csv.zip', \n",
    "             compression='zip', low_memory=False)\n",
    "    df.to_pickle('dataset.pkl')\n",
    "df.shape"
   ]
  },
  {
   "cell_type": "code",
   "execution_count": 5,
   "id": "dcbe7686",
   "metadata": {},
   "outputs": [
    {
     "data": {
      "text/plain": [
       "<AxesSubplot:title={'center':'Target distribution'}, ylabel='Frequency'>"
      ]
     },
     "execution_count": 5,
     "metadata": {},
     "output_type": "execute_result"
    },
    {
     "data": {
      "image/png": "[encoded data removed]",
      "text/plain": [
       "<Figure size 432x288 with 1 Axes>"
      ]
     },
     "metadata": {
      "needs_background": "light"
     },
     "output_type": "display_data"
    }
   ],
   "source": [
    "df['target'].plot(kind='hist', title='Target distribution')"
   ]
  },
  {
   "cell_type": "code",
   "execution_count": 6,
   "id": "6e4ae11a",
   "metadata": {},
   "outputs": [
    {
     "name": "stdout",
     "output_type": "stream",
     "text": [
      "(130612, 3) (1175, 3)\n"
     ]
    }
   ],
   "source": [
    "train_df, remaining = train_test_split(df, random_state=42, train_size=0.1, stratify=df.target.values)\n",
    "valid_df, _  = train_test_split(remaining, random_state=42, train_size=0.001, stratify=remaining.target.values)\n",
    "print(train_df.shape, valid_df.shape)"
   ]
  },
  {
   "cell_type": "code",
   "execution_count": 16,
   "id": "1523c480",
   "metadata": {},
   "outputs": [],
   "source": [
    "buffer_size = train_df.size\n",
    "batch_size = 256\n",
    "train_dataset = tf.data.Dataset.from_tensor_slices((train_df.question_text.values, train_df.target.values)).shuffle(buffer_size).batch(batch_size)\n",
    "valid_dataset = tf.data.Dataset.from_tensor_slices((valid_df.question_text.values, valid_df.target.values)).batch(batch_size)"
   ]
  },
  {
   "cell_type": "code",
   "execution_count": 18,
   "id": "3f770226",
   "metadata": {},
   "outputs": [
    {
     "name": "stdout",
     "output_type": "stream",
     "text": [
      "511\n"
     ]
    },
    {
     "data": {
      "text/plain": [
       "511"
      ]
     },
     "execution_count": 18,
     "metadata": {},
     "output_type": "execute_result"
    }
   ],
   "source": [
    "num = 0;\n",
    "for x, y in train_dataset:\n",
    "    num += 1\n",
    "print(num)\n",
    "train_df.shape[0]//256 + 1"
   ]
  },
  {
   "cell_type": "code",
   "execution_count": null,
   "id": "8c6fad42",
   "metadata": {},
   "outputs": [],
   "source": [
    "module_url = \"https://tfhub.dev/google/tf2-preview/nnlm-en-dim128/1\"\n",
    "embeding_size = 128\n",
    "name_of_model = 'nnlm-en-dim128'"
   ]
  },
  {
   "cell_type": "code",
   "execution_count": null,
   "id": "f54f7041",
   "metadata": {},
   "outputs": [],
   "source": [
    "def train_and_evaluate_model(module_url, embed_size, name, trainable=False):\n",
    "    hub_layer = hub.KerasLayer(module_url, input_shape=[], output_shape=[embed_size], dtype = tf.string, trainable=trainable)\n",
    "    model = tf.keras.models.Sequential([\n",
    "                                      hub_layer,\n",
    "                                      tf.keras.layers.Dense(256, activation='relu'),\n",
    "                                      tf.keras.layers.Dense(64, activation='relu'),\n",
    "                                      tf.keras.layers.Dense(1, activation='sigmoid')\n",
    "    ])\n",
    "    \n",
    "    model.compile(optimizer=tf.keras.optimizers.Adam(learning_rate=0.0001),\n",
    "                loss = tf.losses.BinaryCrossentropy(),\n",
    "                metrics = [tf.metrics.BinaryAccuracy(name='accuracy')])\n",
    "    history = model.fit(train_dataset,\n",
    "                      epochs = 100,\n",
    "                      validation_data=valid_dataset,\n",
    "                      callbacks=[tfdocs.modeling.EpochDots(),\n",
    "                                 tf.keras.callbacks.EarlyStopping(monitor='val_loss', patience=2, mode='min'),\n",
    "                                 tf.keras.callbacks.TensorBoard(logdir/name)],\n",
    "                      verbose = 0\n",
    "                      )\n",
    "    return history"
   ]
  },
  {
   "cell_type": "code",
   "execution_count": null,
   "id": "6dd30341",
   "metadata": {},
   "outputs": [],
   "source": [
    "histories = {}"
   ]
  },
  {
   "cell_type": "code",
   "execution_count": null,
   "id": "6aa37722",
   "metadata": {},
   "outputs": [],
   "source": [
    "start = time.time()\n",
    "histories[name_of_model] = train_and_evaluate_model(module_url, embed_size=embeding_size, name=name_of_model)\n",
    "endt = time.time()-start\n",
    "print(\"\\n \\n Time for {} ms\".format(1000*endt))"
   ]
  },
  {
   "cell_type": "code",
   "execution_count": null,
   "id": "53073097",
   "metadata": {},
   "outputs": [],
   "source": [
    "plt.rcParams['figure.figsize'] = (12, 8)\n",
    "plotter = tfdocs.plots.HistoryPlotter(metric = 'accuracy')\n",
    "plotter.plot(histories)\n",
    "plt.xlabel(\"Epochs\")\n",
    "plt.legend(bbox_to_anchor=(1.0, 1.0), loc='upper left')\n",
    "plt.title(\"Accuracy Curves for Models\")\n",
    "plt.show()"
   ]
  },
  {
   "cell_type": "code",
   "execution_count": null,
   "id": "febe3942",
   "metadata": {},
   "outputs": [],
   "source": [
    "plotter = tfdocs.plots.HistoryPlotter(metric = 'loss')\n",
    "plotter.plot(histories)\n",
    "plt.xlabel(\"Epochs\")\n",
    "plt.legend(bbox_to_anchor=(1.0, 1.0), loc='upper left')\n",
    "plt.title(\"Loss Curves for Models\")\n",
    "plt.show()"
   ]
  },
  {
   "cell_type": "code",
   "execution_count": null,
   "id": "5a120359",
   "metadata": {},
   "outputs": [],
   "source": [
    "%load_ext tensorboard\n",
    "%tensorboard --logdir {logdir} --host mel2038 --port 8888"
   ]
  },
  {
   "cell_type": "code",
   "execution_count": null,
   "id": "63f27306",
   "metadata": {},
   "outputs": [],
   "source": []
  }
 ],
 "metadata": {
  "kernelspec": {
   "display_name": "Python 3 (ipykernel)",
   "language": "python",
   "name": "python3"
  },
  "language_info": {
   "codemirror_mode": {
    "name": "ipython",
    "version": 3
   },
   "file_extension": ".py",
   "mimetype": "text/x-python",
   "name": "python",
   "nbconvert_exporter": "python",
   "pygments_lexer": "ipython3",
   "version": "3.9.5"
  }
 },
 "nbformat": 4,
 "nbformat_minor": 5
}
